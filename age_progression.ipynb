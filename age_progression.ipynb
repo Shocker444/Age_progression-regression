{
 "cells": [
  {
   "cell_type": "code",
   "execution_count": 1,
   "id": "85cb701e",
   "metadata": {
    "ExecuteTime": {
     "end_time": "2023-05-16T08:19:28.992821Z",
     "start_time": "2023-05-16T08:18:53.203573Z"
    },
    "executionInfo": {
     "elapsed": 4868,
     "status": "ok",
     "timestamp": 1682693665858,
     "user": {
      "displayName": "X Life",
      "userId": "10647309832887347003"
     },
     "user_tz": -60
    },
    "id": "85cb701e"
   },
   "outputs": [],
   "source": [
    "import tensorflow as tf\n",
    "import numpy as np\n",
    "from tensorflow import keras\n",
    "from tensorflow.keras import layers\n",
    "import os\n",
    "import matplotlib.pyplot as plt\n",
    "from IPython.display import display\n",
    "import time\n",
    "from tensorflow.keras import backend as K\n",
    "import pathlib\n",
    "from tensorflow.keras.utils import to_categorical"
   ]
  },
  {
   "cell_type": "code",
   "execution_count": 2,
   "id": "0b34a41f",
   "metadata": {
    "ExecuteTime": {
     "end_time": "2023-05-16T08:19:29.165710Z",
     "start_time": "2023-05-16T08:19:29.145713Z"
    }
   },
   "outputs": [],
   "source": [
    "image_path = 'UTKFace'"
   ]
  },
  {
   "cell_type": "code",
   "execution_count": 3,
   "id": "9a415706",
   "metadata": {
    "ExecuteTime": {
     "end_time": "2023-05-16T08:19:29.324709Z",
     "start_time": "2023-05-16T08:19:29.297711Z"
    },
    "executionInfo": {
     "elapsed": 27,
     "status": "ok",
     "timestamp": 1682692570652,
     "user": {
      "displayName": "X Life",
      "userId": "10647309832887347003"
     },
     "user_tz": -60
    },
    "id": "9a415706"
   },
   "outputs": [],
   "source": [
    "# age_group = 0-10, 11-20, 21-30, 31-40, 41-50, 51-60, 61+\n",
    "g1, image1 = [], []\n",
    "g2, image2 = [], []\n",
    "g3, image3 = [], []\n",
    "g4, image4 = [], []\n",
    "g5, image5 = [], []\n",
    "g6, image6 = [], []\n",
    "g7, image7 = [], []\n",
    "\n",
    "def get_agegroup(image_path):\n",
    "    for image in os.listdir(image_path):\n",
    "        age = image.split('_')[0]\n",
    "        if 0 <= int(age) <= 10 and len(g1) < 2000:\n",
    "            g1.append(0)\n",
    "            image1.append(str(image_path)+'/'+image)\n",
    "        elif 11 <= int(age) <= 20 and len(g2) < 2000:\n",
    "            g2.append(1)\n",
    "            image2.append(str(image_path)+'/'+image)\n",
    "        elif 21 <= int(age) <= 30 and len(g3) < 2000:\n",
    "            g3.append(2)\n",
    "            image3.append(str(image_path)+'/'+image)\n",
    "        elif 31 <= int(age) <= 40 and len(g4) < 2000:\n",
    "            g4.append(3)\n",
    "            image4.append(str(image_path)+'/'+image)\n",
    "        elif 41 <= int(age) <= 50 and len(g5) < 2000:\n",
    "            g5.append(4)\n",
    "            image5.append(str(image_path)+'/'+image)\n",
    "        elif 51 <= int(age) <= 60 and len(g6) < 2000:\n",
    "            g6.append(5)\n",
    "            image6.append(str(image_path)+'/'+image)\n",
    "        elif 61 <= int(age) <= 90 and len(g7) < 2000:\n",
    "            g7.append(6)\n",
    "            image7.append(str(image_path)+'/'+image)"
   ]
  },
  {
   "cell_type": "code",
   "execution_count": 4,
   "id": "d4483888",
   "metadata": {
    "ExecuteTime": {
     "end_time": "2023-05-16T08:19:29.702731Z",
     "start_time": "2023-05-16T08:19:29.474707Z"
    },
    "executionInfo": {
     "elapsed": 26,
     "status": "ok",
     "timestamp": 1682692570653,
     "user": {
      "displayName": "X Life",
      "userId": "10647309832887347003"
     },
     "user_tz": -60
    },
    "id": "d4483888"
   },
   "outputs": [],
   "source": [
    "get_agegroup(image_path)"
   ]
  },
  {
   "cell_type": "code",
   "execution_count": 5,
   "id": "99f32f3e",
   "metadata": {
    "ExecuteTime": {
     "end_time": "2023-05-16T08:19:29.926708Z",
     "start_time": "2023-05-16T08:19:29.915711Z"
    },
    "colab": {
     "base_uri": "https://localhost:8080/"
    },
    "executionInfo": {
     "elapsed": 26,
     "status": "ok",
     "timestamp": 1682692570654,
     "user": {
      "displayName": "X Life",
      "userId": "10647309832887347003"
     },
     "user_tz": -60
    },
    "id": "99f32f3e",
    "outputId": "0e1721ad-a8c8-4dd8-c56c-3e59021efe00"
   },
   "outputs": [
    {
     "name": "stdout",
     "output_type": "stream",
     "text": [
      "2000 1659 2000 2000 2000 2000 2000\n"
     ]
    }
   ],
   "source": [
    "print(len(g1), len(g2), len(g3), len(g4), len(g5), len(g6), len(g7))"
   ]
  },
  {
   "cell_type": "code",
   "execution_count": 6,
   "id": "9d9d1491",
   "metadata": {
    "ExecuteTime": {
     "end_time": "2023-05-16T08:19:30.162703Z",
     "start_time": "2023-05-16T08:19:30.134706Z"
    },
    "colab": {
     "base_uri": "https://localhost:8080/"
    },
    "executionInfo": {
     "elapsed": 24,
     "status": "ok",
     "timestamp": 1682692570655,
     "user": {
      "displayName": "X Life",
      "userId": "10647309832887347003"
     },
     "user_tz": -60
    },
    "id": "9d9d1491",
    "outputId": "a05f22f8-9e4b-40f0-bc9a-5740865ef13b"
   },
   "outputs": [
    {
     "name": "stdout",
     "output_type": "stream",
     "text": [
      "13659 13659\n"
     ]
    }
   ],
   "source": [
    "group = g1+g2+g3+g4+g5+g6+g7\n",
    "image = image1+image2+image3+image4+image5+image6+image7\n",
    "\n",
    "print(len(group), len(image))"
   ]
  },
  {
   "cell_type": "code",
   "execution_count": 7,
   "id": "izfojpzwTC_R",
   "metadata": {
    "ExecuteTime": {
     "end_time": "2023-05-16T08:19:30.416732Z",
     "start_time": "2023-05-16T08:19:30.406715Z"
    },
    "executionInfo": {
     "elapsed": 19,
     "status": "ok",
     "timestamp": 1682692570655,
     "user": {
      "displayName": "X Life",
      "userId": "10647309832887347003"
     },
     "user_tz": -60
    },
    "id": "izfojpzwTC_R"
   },
   "outputs": [],
   "source": [
    "latent_dim = 50"
   ]
  },
  {
   "cell_type": "code",
   "execution_count": 8,
   "id": "SQpj_7Q3MUV_",
   "metadata": {
    "ExecuteTime": {
     "end_time": "2023-05-16T08:19:30.734716Z",
     "start_time": "2023-05-16T08:19:30.708708Z"
    },
    "colab": {
     "base_uri": "https://localhost:8080/"
    },
    "executionInfo": {
     "elapsed": 19,
     "status": "ok",
     "timestamp": 1682692570656,
     "user": {
      "displayName": "X Life",
      "userId": "10647309832887347003"
     },
     "user_tz": -60
    },
    "id": "SQpj_7Q3MUV_",
    "outputId": "544705a0-db99-4a3a-f1fb-1b9f118a7919"
   },
   "outputs": [
    {
     "data": {
      "text/plain": [
       "array([[ 1., -1., -1., ..., -1., -1., -1.],\n",
       "       [ 1., -1., -1., ..., -1., -1., -1.],\n",
       "       [ 1., -1., -1., ..., -1., -1., -1.],\n",
       "       ...,\n",
       "       [-1., -1., -1., ..., -1., -1.,  1.],\n",
       "       [-1., -1., -1., ..., -1., -1.,  1.],\n",
       "       [-1., -1., -1., ..., -1., -1.,  1.]], dtype=float32)"
      ]
     },
     "execution_count": 8,
     "metadata": {},
     "output_type": "execute_result"
    }
   ],
   "source": [
    "# scaling the labels to [-1, 1] as proposed in the paper\n",
    "\n",
    "group_cat = to_categorical(np.array(group))\n",
    "group_cat = (group_cat *2) - 1\n",
    "group_cat"
   ]
  },
  {
   "cell_type": "code",
   "execution_count": 9,
   "id": "772426e0",
   "metadata": {
    "ExecuteTime": {
     "end_time": "2023-05-16T08:19:31.205709Z",
     "start_time": "2023-05-16T08:19:31.004707Z"
    },
    "executionInfo": {
     "elapsed": 748,
     "status": "ok",
     "timestamp": 1682692571389,
     "user": {
      "displayName": "X Life",
      "userId": "10647309832887347003"
     },
     "user_tz": -60
    },
    "id": "772426e0"
   },
   "outputs": [],
   "source": [
    "# creating a tf dataset.\n",
    "dataset = tf.data.Dataset.from_tensor_slices((image, group_cat))"
   ]
  },
  {
   "cell_type": "code",
   "execution_count": 10,
   "id": "33b30928",
   "metadata": {
    "ExecuteTime": {
     "end_time": "2023-05-16T08:19:31.532710Z",
     "start_time": "2023-05-16T08:19:31.490709Z"
    },
    "colab": {
     "base_uri": "https://localhost:8080/"
    },
    "executionInfo": {
     "elapsed": 7,
     "status": "ok",
     "timestamp": 1682692571390,
     "user": {
      "displayName": "X Life",
      "userId": "10647309832887347003"
     },
     "user_tz": -60
    },
    "id": "33b30928",
    "outputId": "4128f298-264d-431d-a453-68204babd8a4"
   },
   "outputs": [
    {
     "name": "stdout",
     "output_type": "stream",
     "text": [
      "tf.Tensor(b'UTKFace/10_0_0_20161220222308131.jpg.chip.jpg', shape=(), dtype=string) tf.Tensor([ 1. -1. -1. -1. -1. -1. -1.], shape=(7,), dtype=float32)\n"
     ]
    }
   ],
   "source": [
    "for image, label in dataset.take(1):\n",
    "    print(image, label)"
   ]
  },
  {
   "cell_type": "code",
   "execution_count": 11,
   "id": "e18be059",
   "metadata": {
    "ExecuteTime": {
     "end_time": "2023-05-16T08:19:31.818708Z",
     "start_time": "2023-05-16T08:19:31.807706Z"
    },
    "executionInfo": {
     "elapsed": 6,
     "status": "ok",
     "timestamp": 1682692573041,
     "user": {
      "displayName": "X Life",
      "userId": "10647309832887347003"
     },
     "user_tz": -60
    },
    "id": "e18be059"
   },
   "outputs": [],
   "source": [
    "# image preprocessing\n",
    "def load_func(image, label):\n",
    "    img = tf.io.read_file(image)\n",
    "    img = tf.io.decode_jpeg(img)\n",
    "    img = tf.image.resize(img, (128, 128))\n",
    "    img = (img - 127.5) / 127.5\n",
    "    img = tf.cast(tf.reshape(img, (128, 128, 3)), dtype=tf.float32)\n",
    "    return img, label"
   ]
  },
  {
   "cell_type": "code",
   "execution_count": 12,
   "id": "2eb815a2",
   "metadata": {
    "ExecuteTime": {
     "end_time": "2023-05-16T08:19:32.246720Z",
     "start_time": "2023-05-16T08:19:32.063717Z"
    },
    "executionInfo": {
     "elapsed": 3,
     "status": "ok",
     "timestamp": 1682692573809,
     "user": {
      "displayName": "X Life",
      "userId": "10647309832887347003"
     },
     "user_tz": -60
    },
    "id": "2eb815a2"
   },
   "outputs": [],
   "source": [
    "train_ds = dataset.map(load_func, num_parallel_calls=tf.data.AUTOTUNE)"
   ]
  },
  {
   "cell_type": "code",
   "execution_count": 13,
   "id": "1a71deac",
   "metadata": {
    "ExecuteTime": {
     "end_time": "2023-05-16T08:19:32.545702Z",
     "start_time": "2023-05-16T08:19:32.519711Z"
    },
    "colab": {
     "base_uri": "https://localhost:8080/"
    },
    "executionInfo": {
     "elapsed": 4,
     "status": "ok",
     "timestamp": 1682692575051,
     "user": {
      "displayName": "X Life",
      "userId": "10647309832887347003"
     },
     "user_tz": -60
    },
    "id": "1a71deac",
    "outputId": "4f47519e-c7fa-47b7-9aeb-1c8829259403"
   },
   "outputs": [
    {
     "data": {
      "text/plain": [
       "<ParallelMapDataset element_spec=(TensorSpec(shape=(128, 128, 3), dtype=tf.float32, name=None), TensorSpec(shape=(7,), dtype=tf.float32, name=None))>"
      ]
     },
     "execution_count": 13,
     "metadata": {},
     "output_type": "execute_result"
    }
   ],
   "source": [
    "train_ds"
   ]
  },
  {
   "cell_type": "code",
   "execution_count": 14,
   "id": "f63ce2ba",
   "metadata": {
    "ExecuteTime": {
     "end_time": "2023-05-16T08:19:33.446804Z",
     "start_time": "2023-05-16T08:19:32.800709Z"
    },
    "colab": {
     "base_uri": "https://localhost:8080/",
     "height": 524
    },
    "executionInfo": {
     "elapsed": 15,
     "status": "ok",
     "timestamp": 1682692577056,
     "user": {
      "displayName": "X Life",
      "userId": "10647309832887347003"
     },
     "user_tz": -60
    },
    "id": "f63ce2ba",
    "outputId": "c93210f7-4f87-4cd6-cfc4-d85eceda0dd3"
   },
   "outputs": [
    {
     "name": "stderr",
     "output_type": "stream",
     "text": [
      "Clipping input data to the valid range for imshow with RGB data ([0..1] for floats or [0..255] for integers).\n",
      "C:\\Users\\SHOCKER\\anaconda\\envs\\tf_gpu\\lib\\site-packages\\matplotlib\\text.py:1165: FutureWarning: elementwise comparison failed; returning scalar instead, but in the future will perform elementwise comparison\n",
      "  if s != self._text:\n"
     ]
    },
    {
     "data": {
      "image/png": "[encoded data removed]",
      "text/plain": [
       "<Figure size 640x480 with 1 Axes>"
      ]
     },
     "metadata": {},
     "output_type": "display_data"
    }
   ],
   "source": [
    "for image, label in train_ds.take(1):\n",
    "    plt.imshow(image)\n",
    "    plt.title(label.numpy())"
   ]
  },
  {
   "cell_type": "code",
   "execution_count": 15,
   "id": "S1tyzel7p2VY",
   "metadata": {
    "ExecuteTime": {
     "end_time": "2023-05-16T08:19:33.732813Z",
     "start_time": "2023-05-16T08:19:33.721806Z"
    },
    "executionInfo": {
     "elapsed": 5,
     "status": "ok",
     "timestamp": 1682692579711,
     "user": {
      "displayName": "X Life",
      "userId": "10647309832887347003"
     },
     "user_tz": -60
    },
    "id": "S1tyzel7p2VY"
   },
   "outputs": [],
   "source": [
    "batch_size = 100"
   ]
  },
  {
   "cell_type": "code",
   "execution_count": 16,
   "id": "4513a77e",
   "metadata": {
    "ExecuteTime": {
     "end_time": "2023-05-16T08:19:34.032813Z",
     "start_time": "2023-05-16T08:19:34.007811Z"
    },
    "executionInfo": {
     "elapsed": 3,
     "status": "ok",
     "timestamp": 1682692582240,
     "user": {
      "displayName": "X Life",
      "userId": "10647309832887347003"
     },
     "user_tz": -60
    },
    "id": "4513a77e"
   },
   "outputs": [],
   "source": [
    "train_ds = train_ds.shuffle(2000).batch(batch_size).prefetch(tf.data.AUTOTUNE)"
   ]
  },
  {
   "cell_type": "markdown",
   "id": "e8692744-ed8e-4853-8a6e-5c614ec0b49b",
   "metadata": {},
   "source": [
    "The paper ReLU activation function for each convolution block  in the encoder and generator and no batch normalization. And a tanh activation function for both the encoder and generator. "
   ]
  },
  {
   "cell_type": "code",
   "execution_count": 17,
   "id": "b23ae27c",
   "metadata": {
    "ExecuteTime": {
     "end_time": "2023-05-16T08:19:34.316805Z",
     "start_time": "2023-05-16T08:19:34.292807Z"
    },
    "executionInfo": {
     "elapsed": 22,
     "status": "ok",
     "timestamp": 1682692589934,
     "user": {
      "displayName": "X Life",
      "userId": "10647309832887347003"
     },
     "user_tz": -60
    },
    "id": "b23ae27c"
   },
   "outputs": [],
   "source": [
    "def build_encoder():\n",
    "\n",
    "    \"\"\"\n",
    "    Encoder Network\n",
    "    \"\"\"\n",
    "    \n",
    "    input_layer = keras.Input(shape = (128, 128, 3))\n",
    "\n",
    "    ## 1st Convolutional Block\n",
    "    enc = layers.Conv2D(filters = 64, kernel_size = 5, strides = 2, padding = 'same')(input_layer)\n",
    "    #enc = layers.BatchNormalization()(enc)\n",
    "    enc = layers.ReLU(alpha=0.2)(enc)\n",
    "    \n",
    "    ## 2nd Convolutional Block\n",
    "    enc = layers.Conv2D(filters = 128, kernel_size = 5, strides = 2, padding = 'same')(enc)\n",
    "    #enc = layers.BatchNormalization()(enc)\n",
    "    enc = layers.ReLU(alpha = 0.2)(enc)\n",
    "    \n",
    "    ## 3rd Convolutional Block\n",
    "    enc = layers.Conv2D(filters = 256, kernel_size = 5, strides = 2, padding = 'same')(enc)\n",
    "    #enc = layers.BatchNormalization()(enc)\n",
    "    enc = layers.ReLU()(enc)\n",
    "    \n",
    "    ## 4th Convolutional Block\n",
    "    enc = layers.Conv2D(filters = 512, kernel_size = 5, strides = 2, padding = 'same')(enc)\n",
    "    #enc = layers.BatchNormalization()(enc)\n",
    "    enc = layers.ReLU()(enc)\n",
    "    \n",
    "    \n",
    "    ## Flatten layer\n",
    "    enc = layers.Flatten()(enc)\n",
    "    \n",
    "    ## 1st Fully Connected Layer\n",
    "    enc = layers.Dense(4096)(enc)\n",
    "    #enc = layers.BatchNormalization()(enc)\n",
    "    enc = layers.ReLU()(enc)\n",
    "    \n",
    "    ## 2nd Fully Connected Layer\n",
    "    enc = layers.Dense(latent_dim, activation='tanh')(enc)\n",
    "    \n",
    "    \n",
    "    ## Create a model\n",
    "    model = keras.Model(inputs = input_layer, outputs = enc)\n",
    "    return model\n"
   ]
  },
  {
   "cell_type": "code",
   "execution_count": 18,
   "id": "4f798f67",
   "metadata": {
    "ExecuteTime": {
     "end_time": "2023-05-16T08:19:34.584805Z",
     "start_time": "2023-05-16T08:19:34.558805Z"
    },
    "executionInfo": {
     "elapsed": 8,
     "status": "ok",
     "timestamp": 1682692592181,
     "user": {
      "displayName": "X Life",
      "userId": "10647309832887347003"
     },
     "user_tz": -60
    },
    "id": "4f798f67"
   },
   "outputs": [],
   "source": [
    "def build_generator(num_classes=7):\n",
    "\n",
    "    '''\n",
    "    Generator Network\n",
    "    '''\n",
    "    latent_dims = latent_dim\n",
    "    input_z_noise = keras.Input(shape = (latent_dims, ))\n",
    "    input_label = keras.Input(shape = (num_classes, ))\n",
    "    \n",
    "    init = keras.initializers.RandomNormal(stddev=0.02)\n",
    "    #li = layers.Embedding(num_classes, 50)(input_label)\n",
    "    #li = layers.Dense(12*12*1)(li)\n",
    "    #li = layers.Reshape((12, 12, 1))(li)\n",
    "    merge = layers.Concatenate()([input_z_noise, input_label])\n",
    "    \n",
    "    nodes = 8*8*1024\n",
    "    x = layers.Dense(nodes)(merge)\n",
    "    #x = layers.BatchNormalization()(x)\n",
    "    x = layers.ReLU()(x)\n",
    "    x = layers.Reshape((8, 8, 1024))(x)\n",
    "    x = layers.Dropout(0.2)(x)\n",
    "    \n",
    "    # 1st Deconvolution Block\n",
    "    x = layers.Conv2DTranspose(filters = 512, kernel_size = 5, padding = 'same', strides=2, kernel_initializer=init)(x)\n",
    "    #x = layers.BatchNormalization(momentum = 0.8)(x)\n",
    "    x = layers.ReLU()(x)\n",
    "    \n",
    "    # 2nd Deconvolution Block\n",
    "    x = layers.Conv2DTranspose(filters = 256, kernel_size = 5, padding = 'same', strides=2, kernel_initializer=init)(x)\n",
    "    #x = layers.BatchNormalization(momentum = 0.8)(x)\n",
    "    x = layers.ReLU()(x)\n",
    "    #x = layers.Dropout(0.3)(x)\n",
    "    \n",
    "    # 3rd Deconvolution Block\n",
    "    x = layers.Conv2DTranspose(filters = 128, kernel_size = 5, padding = 'same', strides=2, kernel_initializer=init)(x)\n",
    "    #x = layers.BatchNormalization(momentum = 0.8)(x)\n",
    "    x = layers.ReLU()(x)\n",
    "    \n",
    "    # 4th Deconvolution Block\n",
    "    x = layers.Conv2DTranspose(filters = 64, kernel_size = 5, padding = 'same', strides=2, kernel_initializer=init)(x)\n",
    "    #x = layers.BatchNormalization(momentum = 0.8)(x)\n",
    "    x = layers.ReLU()(x)\n",
    "    \n",
    "\n",
    "    \n",
    "    dec = layers.Conv2DTranspose(filters = 3, kernel_size = 5, padding = 'same', strides=1, activation='tanh', kernel_initializer=init)(x)\n",
    "    \n",
    "    model = keras.Model(inputs = [input_z_noise, input_label], outputs = dec)\n",
    "    return model\n"
   ]
  },
  {
   "cell_type": "code",
   "execution_count": 19,
   "id": "CciJ2FpRNYYb",
   "metadata": {
    "ExecuteTime": {
     "end_time": "2023-05-16T08:19:34.834806Z",
     "start_time": "2023-05-16T08:19:34.825805Z"
    },
    "executionInfo": {
     "elapsed": 6,
     "status": "ok",
     "timestamp": 1682692595451,
     "user": {
      "displayName": "X Life",
      "userId": "10647309832887347003"
     },
     "user_tz": -60
    },
    "id": "CciJ2FpRNYYb"
   },
   "outputs": [],
   "source": [
    "def expand_label_input(x):\n",
    "    x = K.expand_dims(x, axis = 1)\n",
    "    x = K.expand_dims(x, axis = 1)\n",
    "    x = K.tile(x, [1, 64, 64, 1])\n",
    "    return x\n"
   ]
  },
  {
   "cell_type": "code",
   "execution_count": 20,
   "id": "qmdtH4etzsoY",
   "metadata": {
    "ExecuteTime": {
     "end_time": "2023-05-16T08:19:35.117809Z",
     "start_time": "2023-05-16T08:19:35.092805Z"
    },
    "executionInfo": {
     "elapsed": 4,
     "status": "ok",
     "timestamp": 1682692596187,
     "user": {
      "displayName": "X Life",
      "userId": "10647309832887347003"
     },
     "user_tz": -60
    },
    "id": "qmdtH4etzsoY"
   },
   "outputs": [],
   "source": [
    "def build_discriminator(num_classes=7):\n",
    "\n",
    "    \"\"\"\n",
    "    Discriminator Network\n",
    "    \"\"\"\n",
    "    \n",
    "    input_shape = (128, 128, 3)\n",
    "    label_shape = (num_classes, )\n",
    "    image_input = keras.Input(shape = input_shape)\n",
    "    label_input = keras.Input(shape = label_shape)\n",
    "    \n",
    "    init = keras.initializers.RandomNormal(stddev=0.02)\n",
    "    #const = ClipConstraint(0.01)\n",
    "\n",
    "    #li = layers.Embedding(num_classes, 50)(label_input)\n",
    "    #li = layers.Dense(48*48*1, activation='relu')(li)\n",
    "    #li = layers.Reshape((48, 48, 1))(li)\n",
    "\n",
    "    \n",
    "    # 1st Convolution Block\n",
    "    x = layers.Conv2D(16, kernel_size = 5, strides = 2, padding = 'same', kernel_initializer=init)(image_input)\n",
    "    x = layers.ReLU()(x) \n",
    "    \n",
    "    li = layers.Lambda(expand_label_input)(label_input)\n",
    "    x = layers.Concatenate()([x, li])\n",
    "\n",
    "   # 2nd Convolution Block\n",
    "    x = layers.Conv2D(32, kernel_size = 5, strides=(2, 2), padding='same', kernel_initializer=init)(x)\n",
    "    x = layers.BatchNormalization()(x)\n",
    "    x = layers.ReLU()(x)\n",
    "    x = layers.Dropout(0.3)(x)\n",
    "\n",
    "    # 3rd Convolution Block\n",
    "    x = layers.Conv2D(64, kernel_size = 5, strides=(2, 2), padding='same', kernel_initializer=init)(x)\n",
    "    x = layers.BatchNormalization()(x)\n",
    "    x = layers.ReLU()(x)\n",
    "    x = layers.Dropout(0.3)(x)\n",
    "    \n",
    "    # 4th Convolution Block\n",
    "    x = layers.Conv2D(128, kernel_size = 5, strides=(2, 2), padding='same', kernel_initializer=init)(x)\n",
    "    x = layers.BatchNormalization()(x)\n",
    "    x = layers.ReLU()(x)\n",
    "    x = layers.Dropout(0.3)(x)\n",
    "\n",
    "    x = layers.Flatten()(x)  \n",
    "    x = layers.Dropout(0.4)(x)\n",
    "    \n",
    "    x = layers.Dense(1024, activation='relu')(x)\n",
    "    \n",
    "    x = layers.Dense(1, activation='sigmoid')(x)\n",
    "    #x = layers.Conv2D(1, kernel_size = 5, strides = 1, activation = 'sigmoid')(x)\n",
    "    model = keras.Model(inputs = [image_input, label_input], outputs = x)\n",
    "    return model\n"
   ]
  },
  {
   "cell_type": "code",
   "execution_count": 21,
   "id": "fGKBjx1cUUHk",
   "metadata": {
    "ExecuteTime": {
     "end_time": "2023-05-16T08:19:41.219805Z",
     "start_time": "2023-05-16T08:19:35.389807Z"
    },
    "colab": {
     "base_uri": "https://localhost:8080/"
    },
    "executionInfo": {
     "elapsed": 1309,
     "status": "ok",
     "timestamp": 1682692611923,
     "user": {
      "displayName": "X Life",
      "userId": "10647309832887347003"
     },
     "user_tz": -60
    },
    "id": "fGKBjx1cUUHk",
    "outputId": "0112b7c8-11c6-45ef-937c-11df2ccbfaf5"
   },
   "outputs": [
    {
     "name": "stderr",
     "output_type": "stream",
     "text": [
      "C:\\Users\\SHOCKER\\anaconda\\envs\\tf_gpu\\lib\\site-packages\\keras\\initializers\\initializers_v2.py:120: UserWarning: The initializer RandomNormal is unseeded and being called multiple times, which will return identical values  each time (even if the initializer is unseeded). Please update your code to provide a seed to the initializer, or avoid using the same initalizer instance more than once.\n",
      "  warnings.warn(\n"
     ]
    }
   ],
   "source": [
    "discriminator = build_discriminator()\n",
    "generator = build_generator()\n",
    "encoder = build_encoder()"
   ]
  },
  {
   "cell_type": "code",
   "execution_count": 22,
   "id": "c4bc2836",
   "metadata": {
    "ExecuteTime": {
     "end_time": "2023-05-16T08:19:41.585807Z",
     "start_time": "2023-05-16T08:19:41.575810Z"
    }
   },
   "outputs": [],
   "source": [
    "#generator.load_weights('generator.h5')\n",
    "#encoder.load_weights('encoder.h5')"
   ]
  },
  {
   "cell_type": "code",
   "execution_count": 23,
   "id": "9d9659ad",
   "metadata": {
    "ExecuteTime": {
     "end_time": "2023-05-16T08:19:42.183346Z",
     "start_time": "2023-05-16T08:19:41.938805Z"
    }
   },
   "outputs": [],
   "source": [
    "def l2_norm(y_true, y_pred):\n",
    "    return tf.sqrt(tf.reduce_mean(tf.square(y_true-y_pred)))"
   ]
  },
  {
   "cell_type": "code",
   "execution_count": 25,
   "id": "8zeRw7J7MsXu",
   "metadata": {
    "ExecuteTime": {
     "end_time": "2023-05-16T08:19:42.863266Z",
     "start_time": "2023-05-16T08:19:42.822273Z"
    },
    "executionInfo": {
     "elapsed": 1026,
     "status": "ok",
     "timestamp": 1682692661318,
     "user": {
      "displayName": "X Life",
      "userId": "10647309832887347003"
     },
     "user_tz": -60
    },
    "id": "8zeRw7J7MsXu"
   },
   "outputs": [],
   "source": [
    "class GAN(keras.Model):\n",
    "    def __init__(self, discriminator, generator, encoder):\n",
    "        super(GAN, self).__init__()\n",
    "        self.discriminator = discriminator\n",
    "        self.generator = generator\n",
    "        self.encoder = encoder\n",
    "        \n",
    "        \n",
    "    def compile(self, d_optimizer, g_optimizer, loss_fn, loss_fn2):\n",
    "        super(GAN, self).compile()\n",
    "        self.d_optimizer = d_optimizer\n",
    "        self.g_optimizer = g_optimizer\n",
    "        self.loss_fn = loss_fn\n",
    "        self.loss_fn2 = loss_fn2\n",
    "\n",
    "    def discriminator_loss(self, real, fake):\n",
    "        real_loss = self.loss_fn(tf.ones_like(real), real)\n",
    "        fake_loss = self.loss_fn(tf.zeros_like(fake), fake)\n",
    "        total_loss = real_loss + fake_loss\n",
    "        return total_loss\n",
    "\n",
    "    def generator_loss(self, fake):\n",
    "        fake_loss = self.loss_fn(tf.ones_like(fake), fake)\n",
    "        return fake_loss\n",
    "\n",
    "    def train_step(self, batch):\n",
    "        tr_image, tr_label = batch\n",
    "        with tf.GradientTape() as gen_tape, tf.GradientTape() as disc_tape:\n",
    "\n",
    "            \n",
    "            enc = self.encoder(tr_image)\n",
    "            generated_image = self.generator([enc, tr_label], training=True)\n",
    "\n",
    "            real = self.discriminator([tr_image, tr_label], training=True)\n",
    "            fake = self.discriminator([generated_image, tr_label], training=True)\n",
    "\n",
    "            gen_loss = self.generator_loss(fake)\n",
    "            l2_norm = self.loss_fn2(generated_image, tr_image)\n",
    "            tv_ = tv_loss(generated_image, batch_size)\n",
    "            disc_loss = self.discriminator_loss(real, fake)\n",
    "            \n",
    "            total_loss = 100 * l2_norm + gen_loss\n",
    "        gen_grad = gen_tape.gradient(total_loss, self.generator.trainable_variables)\n",
    "        disc_grad = disc_tape.gradient(disc_loss, self.discriminator.trainable_variables)\n",
    "\n",
    "        self.g_optimizer.apply_gradients(zip(gen_grad, self.generator.trainable_variables))\n",
    "        self.d_optimizer.apply_gradients(zip(disc_grad, self.discriminator.trainable_variables))\n",
    "        return {\"disc_loss\": disc_loss, \"g_loss\": gen_loss, \"l2_loss\": l2_norm, \"total_loss\":total_loss}\n",
    "\n"
   ]
  },
  {
   "cell_type": "code",
   "execution_count": 26,
   "id": "B27aaXQfMsUs",
   "metadata": {
    "ExecuteTime": {
     "end_time": "2023-05-16T08:19:45.032274Z",
     "start_time": "2023-05-16T08:19:45.000272Z"
    },
    "executionInfo": {
     "elapsed": 465,
     "status": "ok",
     "timestamp": 1682692670776,
     "user": {
      "displayName": "X Life",
      "userId": "10647309832887347003"
     },
     "user_tz": -60
    },
    "id": "B27aaXQfMsUs"
   },
   "outputs": [],
   "source": [
    "cWGAN = GAN(discriminator=discriminator, generator=generator, encoder=encoder)"
   ]
  },
  {
   "cell_type": "code",
   "execution_count": 27,
   "id": "OudljC8RMsSG",
   "metadata": {
    "ExecuteTime": {
     "end_time": "2023-05-16T08:19:45.974108Z",
     "start_time": "2023-05-16T08:19:45.928082Z"
    },
    "executionInfo": {
     "elapsed": 3,
     "status": "ok",
     "timestamp": 1682692671976,
     "user": {
      "displayName": "X Life",
      "userId": "10647309832887347003"
     },
     "user_tz": -60
    },
    "id": "OudljC8RMsSG"
   },
   "outputs": [],
   "source": [
    "cWGAN.compile(g_optimizer=keras.optimizers.Adam(learning_rate = 0.0002, beta_1 = 0.5, beta_2 = 0.999, epsilon=10e-8),\n",
    "             d_optimizer=keras.optimizers.Adam(learning_rate = 0.0002, beta_1 = 0.5, beta_2 = 0.999, epsilon=10e-8),\n",
    "             loss_fn=keras.losses.BinaryCrossentropy(),\n",
    "             loss_fn2=l2_norm)"
   ]
  },
  {
   "cell_type": "code",
   "execution_count": 28,
   "id": "PBW4xzQaMsP6",
   "metadata": {
    "ExecuteTime": {
     "end_time": "2023-05-16T08:19:49.216514Z",
     "start_time": "2023-05-16T08:19:46.619518Z"
    },
    "executionInfo": {
     "elapsed": 484,
     "status": "ok",
     "timestamp": 1682692736099,
     "user": {
      "displayName": "X Life",
      "userId": "10647309832887347003"
     },
     "user_tz": -60
    },
    "id": "PBW4xzQaMsP6"
   },
   "outputs": [],
   "source": [
    "epochs = 20\n",
    "for image, label in train_ds.take(1):\n",
    "    seed = image[0:4, :, :, :]\n",
    "    labels = label[0:4, :]"
   ]
  },
  {
   "cell_type": "code",
   "execution_count": 29,
   "id": "d2d5b380",
   "metadata": {
    "ExecuteTime": {
     "end_time": "2023-05-16T08:19:57.287919Z",
     "start_time": "2023-05-16T08:19:57.271903Z"
    }
   },
   "outputs": [
    {
     "data": {
      "text/plain": [
       "<tf.Tensor: shape=(4, 7), dtype=float32, numpy=\n",
       "array([[ 1., -1., -1., -1., -1., -1., -1.],\n",
       "       [ 1., -1., -1., -1., -1., -1., -1.],\n",
       "       [ 1., -1., -1., -1., -1., -1., -1.],\n",
       "       [ 1., -1., -1., -1., -1., -1., -1.]], dtype=float32)>"
      ]
     },
     "execution_count": 29,
     "metadata": {},
     "output_type": "execute_result"
    }
   ],
   "source": [
    "labels"
   ]
  },
  {
   "cell_type": "code",
   "execution_count": 30,
   "id": "-BR4_TusMsNe",
   "metadata": {
    "ExecuteTime": {
     "end_time": "2023-05-16T08:20:03.749684Z",
     "start_time": "2023-05-16T08:20:03.732678Z"
    },
    "executionInfo": {
     "elapsed": 490,
     "status": "ok",
     "timestamp": 1682692752685,
     "user": {
      "displayName": "X Life",
      "userId": "10647309832887347003"
     },
     "user_tz": -60
    },
    "id": "-BR4_TusMsNe"
   },
   "outputs": [],
   "source": [
    "path = 'GAN_IMAGES'\n",
    "\n",
    "\n",
    "# callback function to generate images after each epoch.\n",
    "class Generate(keras.callbacks.Callback):\n",
    "    def __init__(self):\n",
    "        super(Generate, self).__init__()\n",
    "        \n",
    "    def on_epoch_end(self, epoch, logs=None):\n",
    "        encoded = encoder(seed)\n",
    "        prediction = generator([encoded, labels])\n",
    "\n",
    "        plt.figure(figsize=(4, 4))\n",
    "        for i in range(4):\n",
    "            plt.subplot(2, 2, i+1)\n",
    "            plt.imshow(prediction[i])\n",
    "            plt.axis('off')\n",
    "            \n",
    "        plt.savefig(f'{path}/image at epoch {epoch+1}.png')\n",
    "\n"
   ]
  },
  {
   "cell_type": "code",
   "execution_count": 31,
   "id": "0P3FhdmgMsLI",
   "metadata": {
    "ExecuteTime": {
     "end_time": "2023-05-16T08:32:58.673258Z",
     "start_time": "2023-05-16T08:20:05.391853Z"
    },
    "colab": {
     "base_uri": "https://localhost:8080/"
    },
    "id": "0P3FhdmgMsLI",
    "outputId": "65294d2f-31a8-4f4e-e01b-bee76c5eb77a"
   },
   "outputs": [
    {
     "name": "stdout",
     "output_type": "stream",
     "text": [
      "Epoch 1/20\n",
      " 14/137 [==>...........................] - ETA: 1:39:38 - disc_loss: 1.9338 - g_loss: 1.3681 - l2_loss: 0.4826 - total_loss: 51.3069"
     ]
    },
    {
     "ename": "KeyboardInterrupt",
     "evalue": "",
     "output_type": "error",
     "traceback": [
      "\u001b[1;31m---------------------------------------------------------------------------\u001b[0m",
      "\u001b[1;31mKeyboardInterrupt\u001b[0m                         Traceback (most recent call last)",
      "\u001b[1;32m~\\AppData\\Local\\Temp\\ipykernel_11260\\704870101.py\u001b[0m in \u001b[0;36m<module>\u001b[1;34m\u001b[0m\n\u001b[1;32m----> 1\u001b[1;33m \u001b[0mcWGAN\u001b[0m\u001b[1;33m.\u001b[0m\u001b[0mfit\u001b[0m\u001b[1;33m(\u001b[0m\u001b[0mtrain_ds\u001b[0m\u001b[1;33m,\u001b[0m \u001b[0mepochs\u001b[0m\u001b[1;33m=\u001b[0m\u001b[0mepochs\u001b[0m\u001b[1;33m,\u001b[0m \u001b[0mcallbacks\u001b[0m\u001b[1;33m=\u001b[0m\u001b[1;33m[\u001b[0m\u001b[0mGenerate\u001b[0m\u001b[1;33m(\u001b[0m\u001b[1;33m)\u001b[0m\u001b[1;33m]\u001b[0m\u001b[1;33m)\u001b[0m\u001b[1;33m\u001b[0m\u001b[1;33m\u001b[0m\u001b[0m\n\u001b[0m",
      "\u001b[1;32m~\\anaconda\\envs\\tf_gpu\\lib\\site-packages\\keras\\utils\\traceback_utils.py\u001b[0m in \u001b[0;36merror_handler\u001b[1;34m(*args, **kwargs)\u001b[0m\n\u001b[0;32m     63\u001b[0m         \u001b[0mfiltered_tb\u001b[0m \u001b[1;33m=\u001b[0m \u001b[1;32mNone\u001b[0m\u001b[1;33m\u001b[0m\u001b[1;33m\u001b[0m\u001b[0m\n\u001b[0;32m     64\u001b[0m         \u001b[1;32mtry\u001b[0m\u001b[1;33m:\u001b[0m\u001b[1;33m\u001b[0m\u001b[1;33m\u001b[0m\u001b[0m\n\u001b[1;32m---> 65\u001b[1;33m             \u001b[1;32mreturn\u001b[0m \u001b[0mfn\u001b[0m\u001b[1;33m(\u001b[0m\u001b[1;33m*\u001b[0m\u001b[0margs\u001b[0m\u001b[1;33m,\u001b[0m \u001b[1;33m**\u001b[0m\u001b[0mkwargs\u001b[0m\u001b[1;33m)\u001b[0m\u001b[1;33m\u001b[0m\u001b[1;33m\u001b[0m\u001b[0m\n\u001b[0m\u001b[0;32m     66\u001b[0m         \u001b[1;32mexcept\u001b[0m \u001b[0mException\u001b[0m \u001b[1;32mas\u001b[0m \u001b[0me\u001b[0m\u001b[1;33m:\u001b[0m\u001b[1;33m\u001b[0m\u001b[1;33m\u001b[0m\u001b[0m\n\u001b[0;32m     67\u001b[0m             \u001b[0mfiltered_tb\u001b[0m \u001b[1;33m=\u001b[0m \u001b[0m_process_traceback_frames\u001b[0m\u001b[1;33m(\u001b[0m\u001b[0me\u001b[0m\u001b[1;33m.\u001b[0m\u001b[0m__traceback__\u001b[0m\u001b[1;33m)\u001b[0m\u001b[1;33m\u001b[0m\u001b[1;33m\u001b[0m\u001b[0m\n",
      "\u001b[1;32m~\\anaconda\\envs\\tf_gpu\\lib\\site-packages\\keras\\engine\\training.py\u001b[0m in \u001b[0;36mfit\u001b[1;34m(self, x, y, batch_size, epochs, verbose, callbacks, validation_split, validation_data, shuffle, class_weight, sample_weight, initial_epoch, steps_per_epoch, validation_steps, validation_batch_size, validation_freq, max_queue_size, workers, use_multiprocessing)\u001b[0m\n\u001b[0;32m   1562\u001b[0m                         ):\n\u001b[0;32m   1563\u001b[0m                             \u001b[0mcallbacks\u001b[0m\u001b[1;33m.\u001b[0m\u001b[0mon_train_batch_begin\u001b[0m\u001b[1;33m(\u001b[0m\u001b[0mstep\u001b[0m\u001b[1;33m)\u001b[0m\u001b[1;33m\u001b[0m\u001b[1;33m\u001b[0m\u001b[0m\n\u001b[1;32m-> 1564\u001b[1;33m                             \u001b[0mtmp_logs\u001b[0m \u001b[1;33m=\u001b[0m \u001b[0mself\u001b[0m\u001b[1;33m.\u001b[0m\u001b[0mtrain_function\u001b[0m\u001b[1;33m(\u001b[0m\u001b[0miterator\u001b[0m\u001b[1;33m)\u001b[0m\u001b[1;33m\u001b[0m\u001b[1;33m\u001b[0m\u001b[0m\n\u001b[0m\u001b[0;32m   1565\u001b[0m                             \u001b[1;32mif\u001b[0m \u001b[0mdata_handler\u001b[0m\u001b[1;33m.\u001b[0m\u001b[0mshould_sync\u001b[0m\u001b[1;33m:\u001b[0m\u001b[1;33m\u001b[0m\u001b[1;33m\u001b[0m\u001b[0m\n\u001b[0;32m   1566\u001b[0m                                 \u001b[0mcontext\u001b[0m\u001b[1;33m.\u001b[0m\u001b[0masync_wait\u001b[0m\u001b[1;33m(\u001b[0m\u001b[1;33m)\u001b[0m\u001b[1;33m\u001b[0m\u001b[1;33m\u001b[0m\u001b[0m\n",
      "\u001b[1;32m~\\anaconda\\envs\\tf_gpu\\lib\\site-packages\\tensorflow\\python\\util\\traceback_utils.py\u001b[0m in \u001b[0;36merror_handler\u001b[1;34m(*args, **kwargs)\u001b[0m\n\u001b[0;32m    148\u001b[0m     \u001b[0mfiltered_tb\u001b[0m \u001b[1;33m=\u001b[0m \u001b[1;32mNone\u001b[0m\u001b[1;33m\u001b[0m\u001b[1;33m\u001b[0m\u001b[0m\n\u001b[0;32m    149\u001b[0m     \u001b[1;32mtry\u001b[0m\u001b[1;33m:\u001b[0m\u001b[1;33m\u001b[0m\u001b[1;33m\u001b[0m\u001b[0m\n\u001b[1;32m--> 150\u001b[1;33m       \u001b[1;32mreturn\u001b[0m \u001b[0mfn\u001b[0m\u001b[1;33m(\u001b[0m\u001b[1;33m*\u001b[0m\u001b[0margs\u001b[0m\u001b[1;33m,\u001b[0m \u001b[1;33m**\u001b[0m\u001b[0mkwargs\u001b[0m\u001b[1;33m)\u001b[0m\u001b[1;33m\u001b[0m\u001b[1;33m\u001b[0m\u001b[0m\n\u001b[0m\u001b[0;32m    151\u001b[0m     \u001b[1;32mexcept\u001b[0m \u001b[0mException\u001b[0m \u001b[1;32mas\u001b[0m \u001b[0me\u001b[0m\u001b[1;33m:\u001b[0m\u001b[1;33m\u001b[0m\u001b[1;33m\u001b[0m\u001b[0m\n\u001b[0;32m    152\u001b[0m       \u001b[0mfiltered_tb\u001b[0m \u001b[1;33m=\u001b[0m \u001b[0m_process_traceback_frames\u001b[0m\u001b[1;33m(\u001b[0m\u001b[0me\u001b[0m\u001b[1;33m.\u001b[0m\u001b[0m__traceback__\u001b[0m\u001b[1;33m)\u001b[0m\u001b[1;33m\u001b[0m\u001b[1;33m\u001b[0m\u001b[0m\n",
      "\u001b[1;32m~\\anaconda\\envs\\tf_gpu\\lib\\site-packages\\tensorflow\\python\\eager\\def_function.py\u001b[0m in \u001b[0;36m__call__\u001b[1;34m(self, *args, **kwds)\u001b[0m\n\u001b[0;32m    913\u001b[0m \u001b[1;33m\u001b[0m\u001b[0m\n\u001b[0;32m    914\u001b[0m       \u001b[1;32mwith\u001b[0m \u001b[0mOptionalXlaContext\u001b[0m\u001b[1;33m(\u001b[0m\u001b[0mself\u001b[0m\u001b[1;33m.\u001b[0m\u001b[0m_jit_compile\u001b[0m\u001b[1;33m)\u001b[0m\u001b[1;33m:\u001b[0m\u001b[1;33m\u001b[0m\u001b[1;33m\u001b[0m\u001b[0m\n\u001b[1;32m--> 915\u001b[1;33m         \u001b[0mresult\u001b[0m \u001b[1;33m=\u001b[0m \u001b[0mself\u001b[0m\u001b[1;33m.\u001b[0m\u001b[0m_call\u001b[0m\u001b[1;33m(\u001b[0m\u001b[1;33m*\u001b[0m\u001b[0margs\u001b[0m\u001b[1;33m,\u001b[0m \u001b[1;33m**\u001b[0m\u001b[0mkwds\u001b[0m\u001b[1;33m)\u001b[0m\u001b[1;33m\u001b[0m\u001b[1;33m\u001b[0m\u001b[0m\n\u001b[0m\u001b[0;32m    916\u001b[0m \u001b[1;33m\u001b[0m\u001b[0m\n\u001b[0;32m    917\u001b[0m       \u001b[0mnew_tracing_count\u001b[0m \u001b[1;33m=\u001b[0m \u001b[0mself\u001b[0m\u001b[1;33m.\u001b[0m\u001b[0mexperimental_get_tracing_count\u001b[0m\u001b[1;33m(\u001b[0m\u001b[1;33m)\u001b[0m\u001b[1;33m\u001b[0m\u001b[1;33m\u001b[0m\u001b[0m\n",
      "\u001b[1;32m~\\anaconda\\envs\\tf_gpu\\lib\\site-packages\\tensorflow\\python\\eager\\def_function.py\u001b[0m in \u001b[0;36m_call\u001b[1;34m(self, *args, **kwds)\u001b[0m\n\u001b[0;32m    945\u001b[0m       \u001b[1;31m# In this case we have created variables on the first call, so we run the\u001b[0m\u001b[1;33m\u001b[0m\u001b[1;33m\u001b[0m\u001b[1;33m\u001b[0m\u001b[0m\n\u001b[0;32m    946\u001b[0m       \u001b[1;31m# defunned version which is guaranteed to never create variables.\u001b[0m\u001b[1;33m\u001b[0m\u001b[1;33m\u001b[0m\u001b[1;33m\u001b[0m\u001b[0m\n\u001b[1;32m--> 947\u001b[1;33m       \u001b[1;32mreturn\u001b[0m \u001b[0mself\u001b[0m\u001b[1;33m.\u001b[0m\u001b[0m_stateless_fn\u001b[0m\u001b[1;33m(\u001b[0m\u001b[1;33m*\u001b[0m\u001b[0margs\u001b[0m\u001b[1;33m,\u001b[0m \u001b[1;33m**\u001b[0m\u001b[0mkwds\u001b[0m\u001b[1;33m)\u001b[0m  \u001b[1;31m# pylint: disable=not-callable\u001b[0m\u001b[1;33m\u001b[0m\u001b[1;33m\u001b[0m\u001b[0m\n\u001b[0m\u001b[0;32m    948\u001b[0m     \u001b[1;32melif\u001b[0m \u001b[0mself\u001b[0m\u001b[1;33m.\u001b[0m\u001b[0m_stateful_fn\u001b[0m \u001b[1;32mis\u001b[0m \u001b[1;32mnot\u001b[0m \u001b[1;32mNone\u001b[0m\u001b[1;33m:\u001b[0m\u001b[1;33m\u001b[0m\u001b[1;33m\u001b[0m\u001b[0m\n\u001b[0;32m    949\u001b[0m       \u001b[1;31m# Release the lock early so that multiple threads can perform the call\u001b[0m\u001b[1;33m\u001b[0m\u001b[1;33m\u001b[0m\u001b[1;33m\u001b[0m\u001b[0m\n",
      "\u001b[1;32m~\\anaconda\\envs\\tf_gpu\\lib\\site-packages\\tensorflow\\python\\eager\\function.py\u001b[0m in \u001b[0;36m__call__\u001b[1;34m(self, *args, **kwargs)\u001b[0m\n\u001b[0;32m   2494\u001b[0m       (graph_function,\n\u001b[0;32m   2495\u001b[0m        filtered_flat_args) = self._maybe_define_function(args, kwargs)\n\u001b[1;32m-> 2496\u001b[1;33m     return graph_function._call_flat(\n\u001b[0m\u001b[0;32m   2497\u001b[0m         filtered_flat_args, captured_inputs=graph_function.captured_inputs)  # pylint: disable=protected-access\n\u001b[0;32m   2498\u001b[0m \u001b[1;33m\u001b[0m\u001b[0m\n",
      "\u001b[1;32m~\\anaconda\\envs\\tf_gpu\\lib\\site-packages\\tensorflow\\python\\eager\\function.py\u001b[0m in \u001b[0;36m_call_flat\u001b[1;34m(self, args, captured_inputs, cancellation_manager)\u001b[0m\n\u001b[0;32m   1860\u001b[0m         and executing_eagerly):\n\u001b[0;32m   1861\u001b[0m       \u001b[1;31m# No tape is watching; skip to running the function.\u001b[0m\u001b[1;33m\u001b[0m\u001b[1;33m\u001b[0m\u001b[1;33m\u001b[0m\u001b[0m\n\u001b[1;32m-> 1862\u001b[1;33m       return self._build_call_outputs(self._inference_function.call(\n\u001b[0m\u001b[0;32m   1863\u001b[0m           ctx, args, cancellation_manager=cancellation_manager))\n\u001b[0;32m   1864\u001b[0m     forward_backward = self._select_forward_and_backward_functions(\n",
      "\u001b[1;32m~\\anaconda\\envs\\tf_gpu\\lib\\site-packages\\tensorflow\\python\\eager\\function.py\u001b[0m in \u001b[0;36mcall\u001b[1;34m(self, ctx, args, cancellation_manager)\u001b[0m\n\u001b[0;32m    497\u001b[0m       \u001b[1;32mwith\u001b[0m \u001b[0m_InterpolateFunctionError\u001b[0m\u001b[1;33m(\u001b[0m\u001b[0mself\u001b[0m\u001b[1;33m)\u001b[0m\u001b[1;33m:\u001b[0m\u001b[1;33m\u001b[0m\u001b[1;33m\u001b[0m\u001b[0m\n\u001b[0;32m    498\u001b[0m         \u001b[1;32mif\u001b[0m \u001b[0mcancellation_manager\u001b[0m \u001b[1;32mis\u001b[0m \u001b[1;32mNone\u001b[0m\u001b[1;33m:\u001b[0m\u001b[1;33m\u001b[0m\u001b[1;33m\u001b[0m\u001b[0m\n\u001b[1;32m--> 499\u001b[1;33m           outputs = execute.execute(\n\u001b[0m\u001b[0;32m    500\u001b[0m               \u001b[0mstr\u001b[0m\u001b[1;33m(\u001b[0m\u001b[0mself\u001b[0m\u001b[1;33m.\u001b[0m\u001b[0msignature\u001b[0m\u001b[1;33m.\u001b[0m\u001b[0mname\u001b[0m\u001b[1;33m)\u001b[0m\u001b[1;33m,\u001b[0m\u001b[1;33m\u001b[0m\u001b[1;33m\u001b[0m\u001b[0m\n\u001b[0;32m    501\u001b[0m               \u001b[0mnum_outputs\u001b[0m\u001b[1;33m=\u001b[0m\u001b[0mself\u001b[0m\u001b[1;33m.\u001b[0m\u001b[0m_num_outputs\u001b[0m\u001b[1;33m,\u001b[0m\u001b[1;33m\u001b[0m\u001b[1;33m\u001b[0m\u001b[0m\n",
      "\u001b[1;32m~\\anaconda\\envs\\tf_gpu\\lib\\site-packages\\tensorflow\\python\\eager\\execute.py\u001b[0m in \u001b[0;36mquick_execute\u001b[1;34m(op_name, num_outputs, inputs, attrs, ctx, name)\u001b[0m\n\u001b[0;32m     52\u001b[0m   \u001b[1;32mtry\u001b[0m\u001b[1;33m:\u001b[0m\u001b[1;33m\u001b[0m\u001b[1;33m\u001b[0m\u001b[0m\n\u001b[0;32m     53\u001b[0m     \u001b[0mctx\u001b[0m\u001b[1;33m.\u001b[0m\u001b[0mensure_initialized\u001b[0m\u001b[1;33m(\u001b[0m\u001b[1;33m)\u001b[0m\u001b[1;33m\u001b[0m\u001b[1;33m\u001b[0m\u001b[0m\n\u001b[1;32m---> 54\u001b[1;33m     tensors = pywrap_tfe.TFE_Py_Execute(ctx._handle, device_name, op_name,\n\u001b[0m\u001b[0;32m     55\u001b[0m                                         inputs, attrs, num_outputs)\n\u001b[0;32m     56\u001b[0m   \u001b[1;32mexcept\u001b[0m \u001b[0mcore\u001b[0m\u001b[1;33m.\u001b[0m\u001b[0m_NotOkStatusException\u001b[0m \u001b[1;32mas\u001b[0m \u001b[0me\u001b[0m\u001b[1;33m:\u001b[0m\u001b[1;33m\u001b[0m\u001b[1;33m\u001b[0m\u001b[0m\n",
      "\u001b[1;31mKeyboardInterrupt\u001b[0m: "
     ]
    }
   ],
   "source": [
    "cWGAN.fit(train_ds, epochs=epochs, callbacks=[Generate()])"
   ]
  },
  {
   "cell_type": "markdown",
   "id": "02034bbc-5324-43e2-bb85-809fdcedb735",
   "metadata": {},
   "source": [
    "Model training was interrupted due to the heaviness of the model."
   ]
  },
  {
   "cell_type": "code",
   "execution_count": null,
   "id": "016413dd-1522-460c-a1da-bc4c7b742270",
   "metadata": {},
   "outputs": [],
   "source": []
  }
 ],
 "metadata": {
  "accelerator": "GPU",
  "colab": {
   "provenance": []
  },
  "gpuClass": "standard",
  "kernelspec": {
   "display_name": "Python 3 (ipykernel)",
   "language": "python",
   "name": "python3"
  },
  "language_info": {
   "codemirror_mode": {
    "name": "ipython",
    "version": 3
   },
   "file_extension": ".py",
   "mimetype": "text/x-python",
   "name": "python",
   "nbconvert_exporter": "python",
   "pygments_lexer": "ipython3",
   "version": "3.9.0"
  },
  "varInspector": {
   "cols": {
    "lenName": 16,
    "lenType": 16,
    "lenVar": 40
   },
   "kernels_config": {
    "python": {
     "delete_cmd_postfix": "",
     "delete_cmd_prefix": "del ",
     "library": "var_list.py",
     "varRefreshCmd": "print(var_dic_list())"
    },
    "r": {
     "delete_cmd_postfix": ") ",
     "delete_cmd_prefix": "rm(",
     "library": "var_list.r",
     "varRefreshCmd": "cat(var_dic_list()) "
    }
   },
   "types_to_exclude": [
    "module",
    "function",
    "builtin_function_or_method",
    "instance",
    "_Feature"
   ],
   "window_display": false
  }
 },
 "nbformat": 4,
 "nbformat_minor": 5
}
